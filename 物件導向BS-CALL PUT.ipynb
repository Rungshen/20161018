{
 "cells": [
  {
   "cell_type": "code",
   "execution_count": 2,
   "metadata": {
    "collapsed": true
   },
   "outputs": [],
   "source": [
    "class BlackSholes:\n",
    "    def __init__(self, S0, K, T, r, Sigma, div=0):\n",
    "        self.S0=S0\n",
    "        self.K=K\n",
    "        self.T=T\n",
    "        self.r=r\n",
    "        self.Sigma=Sigma\n",
    "        self.div=div\n",
    "    def Call_value_CF(self):\n",
    "        from math import log,sqrt,exp\n",
    "        from scipy import stats\n",
    "        d1 = (log(S0 / K) + (r + 0.5 * Sigma ** 2) * T) / (Sigma * sqrt(T))\n",
    "        d2 = (log(S0 / K) + (r - 0.5 * Sigma ** 2) * T) / (Sigma * sqrt(T))\n",
    "        C0 = (S0 * stats.norm.cdf(d1, 0, 1)) - K * exp(-r * T) * stats.norm.cdf(d2, 0, 1)\n",
    "        self.display(C0)\n",
    "    def Call_value_MSC(self, N=10000):\n",
    "        from numpy import random,sqrt,exp,maximum,sum\n",
    "        self.N=N\n",
    "        z=random.standard_normal(N)\n",
    "        ST = S0 * exp((r - 0.5 * Sigma ** 2) * T + Sigma * sqrt(T) * z)\n",
    "        CT = maximum(ST - K, 0)\n",
    "        C0 = exp(-r * T) * sum(CT) / N\n",
    "        return C0\n",
    "        self.display(C0)\n",
    "    def display(self, C0):\n",
    "        print('Call Premium:'+str(C0))"
   ]
  },
  {
   "cell_type": "code",
   "execution_count": 3,
   "metadata": {
    "collapsed": true
   },
   "outputs": [],
   "source": [
    "S0 = 100\n",
    "K = 105\n",
    "T = 1\n",
    "r = 0.05\n",
    "Sigma = 0.2\n",
    "#N=10000\n",
    "BS=BlackSholes(S0, K, T, r, Sigma)\n"
   ]
  },
  {
   "cell_type": "code",
   "execution_count": 4,
   "metadata": {
    "collapsed": false
   },
   "outputs": [
    {
     "name": "stdout",
     "output_type": "stream",
     "text": [
      "Call Premium:8.02135223514\n"
     ]
    }
   ],
   "source": [
    "BS.Call_value_CF()"
   ]
  },
  {
   "cell_type": "code",
   "execution_count": 5,
   "metadata": {
    "collapsed": true
   },
   "outputs": [],
   "source": [
    "class BlackSholes:\n",
    "    def __init__(self, S0, K, T, r, Sigma, div=0):\n",
    "        self.S0=S0\n",
    "        self.K=K\n",
    "        self.T=T\n",
    "        self.r=r\n",
    "        self.Sigma=Sigma\n",
    "        self.div=div\n",
    "    def Put_value_CF(self):\n",
    "        from math import log,sqrt,exp\n",
    "        from scipy import stats\n",
    "        d1 = (log(S0 / K) + (r + 0.5 * Sigma ** 2) * T) / (Sigma * sqrt(T))\n",
    "        d2 = (log(S0 / K) + (r - 0.5 * Sigma ** 2) * T) / (Sigma * sqrt(T))\n",
    "        C0 = -(S0 * stats.norm.cdf(-d1, 0, 1)) + K * exp(-r * T) * stats.norm.cdf(-d2, 0, 1)\n",
    "        self.display(C0)\n",
    "    def Put_value_MSC(self, N=10000):\n",
    "        from numpy import random,sqrt,exp,maximum,sum\n",
    "        self.N=N\n",
    "        z=random.standard_normal(N)\n",
    "        ST = S0 * exp((r - 0.5 * Sigma ** 2) * T + Sigma * sqrt(T) * z)\n",
    "        CT = maximum(K-ST, 0)\n",
    "        C0 = exp(-r * T) * sum(PT) / N\n",
    "        return C0\n",
    "        self.display(C0)\n",
    "    def display(self, C0):\n",
    "        print('Put Premium:'+str(C0))"
   ]
  },
  {
   "cell_type": "code",
   "execution_count": 6,
   "metadata": {
    "collapsed": true
   },
   "outputs": [],
   "source": [
    "S0 = 100\n",
    "K = 105\n",
    "T = 1\n",
    "r = 0.05\n",
    "Sigma = 0.2\n",
    "#N=10000\n",
    "BS=BlackSholes(S0, K, T, r, Sigma)\n",
    "\n"
   ]
  },
  {
   "cell_type": "code",
   "execution_count": 8,
   "metadata": {
    "collapsed": false
   },
   "outputs": [
    {
     "name": "stdout",
     "output_type": "stream",
     "text": [
      "Put Premium:7.90044180772\n"
     ]
    }
   ],
   "source": [
    "BS.Put_value_CF()"
   ]
  },
  {
   "cell_type": "code",
   "execution_count": null,
   "metadata": {
    "collapsed": true
   },
   "outputs": [],
   "source": []
  }
 ],
 "metadata": {
  "kernelspec": {
   "display_name": "Python [Root]",
   "language": "python",
   "name": "Python [Root]"
  },
  "language_info": {
   "codemirror_mode": {
    "name": "ipython",
    "version": 3
   },
   "file_extension": ".py",
   "mimetype": "text/x-python",
   "name": "python",
   "nbconvert_exporter": "python",
   "pygments_lexer": "ipython3",
   "version": "3.5.2"
  }
 },
 "nbformat": 4,
 "nbformat_minor": 0
}
